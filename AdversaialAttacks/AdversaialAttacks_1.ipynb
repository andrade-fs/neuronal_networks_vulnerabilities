{
 "cells": [
  {
   "cell_type": "code",
   "execution_count": 1,
   "metadata": {},
   "outputs": [
    {
     "ename": "ModuleNotFoundError",
     "evalue": "No module named 'keras'",
     "output_type": "error",
     "traceback": [
      "\u001b[0;31m---------------------------------------------------------------------------\u001b[0m",
      "\u001b[0;31mModuleNotFoundError\u001b[0m                       Traceback (most recent call last)",
      "Cell \u001b[0;32mIn[1], line 2\u001b[0m\n\u001b[1;32m      1\u001b[0m \u001b[39mimport\u001b[39;00m \u001b[39mos\u001b[39;00m\n\u001b[0;32m----> 2\u001b[0m \u001b[39mimport\u001b[39;00m  \u001b[39mkeras\u001b[39;00m\n\u001b[1;32m      3\u001b[0m \u001b[39mimport\u001b[39;00m  \u001b[39mnumpy\u001b[39;00m  \u001b[39mas\u001b[39;00m  \u001b[39mnp\u001b[39;00m\n\u001b[1;32m      4\u001b[0m \u001b[39mimport\u001b[39;00m  \u001b[39mtensorflow\u001b[39;00m  \u001b[39mas\u001b[39;00m  \u001b[39mtf\u001b[39;00m\n",
      "\u001b[0;31mModuleNotFoundError\u001b[0m: No module named 'keras'"
     ]
    }
   ],
   "source": [
    "import os\n",
    "import  keras\n",
    "import  numpy  as  np\n",
    "import  tensorflow  as  tf\n",
    "import  matplotlib.pyplot  as  plt\n",
    "from  keras  import  backend  as  k\n",
    "from tensorflow.keras.preprocessing import image\n",
    "from  keras.applications.inception_v3  import  InceptionV3, decode_predictions\n",
    "\n",
    "tf.compat.v1.disable_eager_execution ()"
   ]
  },
  {
   "cell_type": "code",
   "execution_count": null,
   "metadata": {},
   "outputs": [],
   "source": [
    "data_dir = os.path.dirname(__file__) + \"/\"\n",
    "iv3 = InceptionV3()"
   ]
  },
  {
   "cell_type": "code",
   "execution_count": null,
   "metadata": {},
   "outputs": [],
   "source": [
    "# iv3.summary()"
   ]
  },
  {
   "cell_type": "code",
   "execution_count": null,
   "metadata": {},
   "outputs": [],
   "source": [
    "beer = 'beer.jpg'\n",
    "stop = 'Stop.png'\n",
    "hackImage = 'hackImage.png'\n",
    "img = image.img_to_array(image.load_img(data_dir + hackImage, target_size=(299, 299)))\n",
    "print(img)"
   ]
  },
  {
   "attachments": {},
   "cell_type": "markdown",
   "metadata": {},
   "source": [
    "Si se imprime img los resultados van a ser de 0 a 255 los colores pero incepcion funciona de -1 a 1 para lo cual se va a reescalar la imagen"
   ]
  },
  {
   "cell_type": "code",
   "execution_count": null,
   "metadata": {},
   "outputs": [],
   "source": [
    "# Conversión de 0-255 a 0-1\n",
    "img /= 255\n",
    "img -= 0.5\n",
    "img *= 2"
   ]
  },
  {
   "cell_type": "code",
   "execution_count": null,
   "metadata": {},
   "outputs": [],
   "source": [
    "# El modelo pide que entre un tensor con una dimension mas esa dimension extra es el tamaño del batch (+1 imágen)\n",
    "img = img.reshape([1, img.shape[0], img.shape[1], img.shape[2]])\n",
    "print (img.shape)"
   ]
  },
  {
   "cell_type": "code",
   "execution_count": null,
   "metadata": {},
   "outputs": [],
   "source": [
    "# Predicción\n",
    "y=iv3.predict(img)\n",
    "decode_predictions(y)"
   ]
  },
  {
   "attachments": {},
   "cell_type": "markdown",
   "metadata": {},
   "source": [
    "\n",
    "## Ataque adversario"
   ]
  },
  {
   "cell_type": "code",
   "execution_count": null,
   "metadata": {},
   "outputs": [],
   "source": [
    "# Vamos a construir un nuevo grapho que permita clasificar las imágenes.\n",
    "inp_layer = iv3.layers[0].input\n",
    "out_layer = iv3.layers[-1].output\n",
    "target_class = 951 # Limón\n",
    "loss = out_layer[0, target_class]\n",
    "grad = k.gradients(loss, inp_layer)[0]\n",
    "\n",
    "# Que calcule el grafo de gradientes entre el tensor y la funcion de coste #tensor que dice como variar los pixeles\n",
    "optimize_gradient = k.function([inp_layer, k.learning_phase()], [grad, loss])\n"
   ]
  },
  {
   "cell_type": "code",
   "execution_count": null,
   "metadata": {},
   "outputs": [],
   "source": [
    "\n",
    "pert=0.009\n",
    "max_pert=img+pert\n",
    "min_pert=img-pert\n",
    "adv = np.copy(img)\n",
    "cost = 0.0\n",
    "while cost<0.95:\n",
    "    gr, cost = optimize_gradient([adv,0]) #0 es que estamos en modo testing\n",
    "    adv += gr #sumarle los pixeles para que se vea manipulado\n",
    "    adv=np.clip(adv,min_pert,max_pert)#hace que la imagen se encuentre en el rango de perturbacion\n",
    "    print(\"target cost: \", cost) #que imprima el coste"
   ]
  }
 ],
 "metadata": {
  "kernelspec": {
   "display_name": "asturcon",
   "language": "python",
   "name": "python3"
  },
  "language_info": {
   "codemirror_mode": {
    "name": "ipython",
    "version": 3
   },
   "file_extension": ".py",
   "mimetype": "text/x-python",
   "name": "python",
   "nbconvert_exporter": "python",
   "pygments_lexer": "ipython3",
   "version": "3.8.10"
  },
  "orig_nbformat": 4
 },
 "nbformat": 4,
 "nbformat_minor": 2
}
